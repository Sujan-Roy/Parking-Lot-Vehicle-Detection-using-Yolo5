{
 "cells": [
  {
   "cell_type": "code",
   "execution_count": 1,
   "id": "41da0474-fd79-42e2-afab-61ac1e4d02ec",
   "metadata": {},
   "outputs": [],
   "source": [
    "import tensorflow.compat.v1 as tf\n",
    "tf.compat.v1.disable_eager_execution()"
   ]
  },
  {
   "cell_type": "code",
   "execution_count": 2,
   "id": "a00670bf-3ffa-4505-aac7-27063fa20cad",
   "metadata": {},
   "outputs": [],
   "source": [
    "import warnings\n",
    "warnings.filterwarnings('ignore')\n",
    "import numpy as np\n",
    "import matplotlib.pyplot as plt\n",
    "from PIL import Image, ImageDraw, ImageFont\n",
    "from IPython.display import display\n",
    "from seaborn import color_palette\n",
    "import cv2"
   ]
  },
  {
   "cell_type": "code",
   "execution_count": 3,
   "id": "e9ce0f32-9eea-4ab2-8116-a4dd38c43048",
   "metadata": {},
   "outputs": [],
   "source": [
    "_BATCH_NORM_DECAY = 0.9\n",
    "_BATCH_NORM_EPSILON = 1e-05\n",
    "_LEAKY_RELU = 0.1"
   ]
  },
  {
   "cell_type": "code",
   "execution_count": 4,
   "id": "29cd58e6-a02e-460f-935d-6e99566cf25a",
   "metadata": {},
   "outputs": [],
   "source": [
    "_ANCHORS = [(10, 13), (16, 30), (33, 23),\n",
    "           (30, 61), (62, 45), (59, 119),\n",
    "           (116, 90), (156, 198), (373, 326)]\n",
    "\n",
    "_MODEL_SIZE = (416, 416)"
   ]
  },
  {
   "cell_type": "code",
   "execution_count": 5,
   "id": "14e63e18-8d77-4486-a240-83b6f17be845",
   "metadata": {},
   "outputs": [],
   "source": [
    "def batch_norm(inputs, training, data_format):\n",
    "    return tf.layers.batch_normalization(inputs=inputs,\n",
    "                                        axis = 1 if data_format == 'channels_first' else 3,\n",
    "                                        momentum= _BATCH_NORM_DECAY, epsilon = _BATCH_NORM_EPSILON, \n",
    "                                        scale= True, training=training)"
   ]
  },
  {
   "cell_type": "code",
   "execution_count": 6,
   "id": "db78ead4-2c8c-4161-8d73-f8b88e5320b7",
   "metadata": {},
   "outputs": [],
   "source": [
    "def fixed_padding(inputs, kernel_size, data_format):\n",
    "    pad_total = kernel_size - 1\n",
    "    pad_beg = pad_total // 2\n",
    "    pad_end = pad_total - pad_beg\n",
    "    \n",
    "    if data_format == 'channels_first':\n",
    "        padded_inputs = tf.pad(inputs, [[0, 0],\n",
    "                                        [0, 0],\n",
    "                                        [pad_beg, pad_end],\n",
    "                                        [pad_beg, pad_end]])\n",
    "    else:\n",
    "        padded_inputs = tf.pad(inputs, [[0, 0], [pad_beg, pad_end],\n",
    "                                        [pad_beg, pad_end], [0, 0]])\n",
    "        \n",
    "    return padded_inputs                "
   ]
  },
  {
   "cell_type": "code",
   "execution_count": 7,
   "id": "bde5f72d-07f8-48f4-a674-6c1faa3c965e",
   "metadata": {},
   "outputs": [],
   "source": [
    "def conv2_fixed_padding(inputs, filters, kernel_size, data_format, strides = 1):\n",
    "    if strides > 1:\n",
    "        inputs = fixed_padding(inputs, kernel_size, data_format)\n",
    "        \n",
    "    return tf.layers.conv2d(inputs=inputs, filters=filters, kernel_size= kernel_size,\n",
    "                           strides= strides, padding=(\"SAME\" if strides == 1 else \"VALID\"),\n",
    "                           use_bias=False, data_format = data_format)"
   ]
  },
  {
   "cell_type": "code",
   "execution_count": 8,
   "id": "8bd15cd6-a19a-4476-9b62-2504c4881779",
   "metadata": {},
   "outputs": [],
   "source": [
    "def darknet_53_block(inputs, filters, trainig, data_format, strides = 1):\n",
    "    shortcut = inputs\n",
    "    \n",
    "    inputs = conv2_fixed_padding(inputs=inputs, filters=filters, kernel_size=1, strides=strides, data_format=data_format)\n",
    "    inputs = batch_norm(inputs=inputs, trainig =trainig, data_format = data_format)\n",
    "    inputs = tf.nn.leaky_relu(inputs, alpha=_LEAKY_RELU)\n",
    "    \n",
    "    \n",
    "    inputs = conv2_fixed_padding(inputs=inputs, filters=2*filters, kernel_size= 3, strides=strides, data_format = data_format)\n",
    "    inputs = batch_norm(inputs=inputs, trainig =trainig, data_format = data_format)\n",
    "    inputs = tf.nn.leaky_relu(inputs, alpha=_LEAKY_RELU)\n",
    "    \n",
    "    inputs+= shortcut\n",
    "    \n",
    "    return inputs"
   ]
  },
  {
   "cell_type": "code",
   "execution_count": 9,
   "id": "3d09faba-ebaf-4aff-aaa9-d8299c9a3295",
   "metadata": {},
   "outputs": [],
   "source": [
    "def darknet53(inputs, training, data_format):\n",
    "    \n",
    "    inputs = conv2_fixed_padding(inputs=inputs, filters=32, kernel_size=3, data_format=data_format)\n",
    "    inputs = batch_norm(inputs=inputs, trainig =trainig, data_format = data_format)\n",
    "    inputs = tf.nn.leaky_relu(inputs, alpha=_LEAKY_RELU)\n",
    "    \n",
    "    \n",
    "    inputs = conv2_fixed_padding(inputs=inputs, filters=64, kernel_size=3, data_format=data_format, strides=2)\n",
    "    inputs = batch_norm(inputs=inputs, trainig =trainig, data_format = data_format)\n",
    "    inputs = tf.nn.leaky_relu(inputs, alpha=_LEAKY_RELU)\n",
    "    \n",
    "    inputs = darknet_53_block(inputs=inputs, filters=32,trainig=trainig, data_format=data_format)\n",
    "    \n",
    "    \n",
    "    inputs = conv2_fixed_padding(inputs=inputs, filters=128, kernel_size=3, data_format=data_format, strides=2)\n",
    "    inputs = batch_norm(inputs=inputs, trainig =trainig, data_format = data_format)\n",
    "    inputs = tf.nn.leaky_relu(inputs, alpha=_LEAKY_RELU)\n",
    "    \n",
    "    \n",
    "    for _ in range(8):\n",
    "        inputs = darknet_53_block(inputs=inputs, filters=128,trainig=trainig, data_format=data_format)\n",
    "    \n",
    "    route1 = inputs\n",
    "    \n",
    "    inputs = conv2_fixed_padding(inputs=inputs, filters=512, kernel_size=3, data_format=data_format, strides=2)\n",
    "    inputs = batch_norm(inputs=inputs, trainig =trainig, data_format = data_format)\n",
    "    inputs = tf.nn.leaky_relu(inputs, alpha=_LEAKY_RELU)\n",
    "    \n",
    "    \n",
    "    for _ in range(8):\n",
    "        inputs = darknet_53_block(inputs=inputs, filters=256,trainig=trainig, data_format=data_format)\n",
    "    \n",
    "    route2 = inputs\n",
    "    \n",
    "    inputs = conv2_fixed_padding(inputs=inputs, filters=1024, kernel_size=3, data_format=data_format, strides=2)\n",
    "    inputs = batch_norm(inputs=inputs, trainig =trainig, data_format = data_format)\n",
    "    inputs = tf.nn.leaky_relu(inputs, alpha=_LEAKY_RELU)\n",
    "    \n",
    "    \n",
    "    \n",
    "    for _ in range(4):\n",
    "        inputs = darknet_53_block(inputs=inputs, filters=512,trainig=trainig, data_format=data_format)\n",
    "    \n",
    "    return route1, route2, inputs\n",
    "    "
   ]
  },
  {
   "cell_type": "code",
   "execution_count": null,
   "id": "3aed5f07-4acc-453b-8820-da9bc8748ef6",
   "metadata": {},
   "outputs": [],
   "source": []
  }
 ],
 "metadata": {
  "kernelspec": {
   "display_name": "Python 3",
   "language": "python",
   "name": "python3"
  },
  "language_info": {
   "codemirror_mode": {
    "name": "ipython",
    "version": 3
   },
   "file_extension": ".py",
   "mimetype": "text/x-python",
   "name": "python",
   "nbconvert_exporter": "python",
   "pygments_lexer": "ipython3",
   "version": "3.7.11"
  }
 },
 "nbformat": 4,
 "nbformat_minor": 5
}
